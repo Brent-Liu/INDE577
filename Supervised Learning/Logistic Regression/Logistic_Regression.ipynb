{
 "cells": [
  {
   "cell_type": "markdown",
   "metadata": {},
   "source": [
    "# Logistic Regression\n",
    "\n",
    "In this notebook, we first briefly introduce the concept of logistic regression. Then we illustrate the logistic regression algorithm and implement the logistic regression algorithm with python class. At last, we will implement the logistic regression algorithms into analysis of palmer penguins, where we want to judge the sex of penguins based on the penguins' body mass and flipper length."
   ]
  },
  {
   "cell_type": "markdown",
   "metadata": {
    "id": "ykWVdGpnilVl"
   },
   "source": [
    "### Introduction\n",
    "\n",
    "Despite the name, logistic Regression is a classification algorithm developed to model population growth in the 1830s by Pierre Francois Verhulst. In machine learning, it yields the probability of a binary event happening. It can be extended to multi0label classification by assigning a probability between 0 and 1 to each object where the sum of all object probabilities is 1. Logistic regression itself is not a classifier, but rather models the probability of an output based on the input.\n",
    "\n",
    "Logistic regression is used in various fields, including machine learning, most medical fields, and social sciences."
   ]
  },
  {
   "cell_type": "markdown",
   "metadata": {},
   "source": [
    "## Algorithm\n",
    "\n",
    "Instead of creating a single neuron model for predicting a class deterministic label, we will next build a single neuron model that predicts a *class probability*.\n",
    "\n",
    "### Sigmoid activation function\n",
    "\n",
    "As before, we must first decide on an activation function before deciding on a cost/ loss function. For this purpose, we choose the *sigmoid* activation function:\n",
    "\n",
    "$$\n",
    "\\sigma(z) = \\frac{1}{1 + e^{-z}}\n",
    "$$\n",
    "\n",
    "This differentiable function has a range in $(0, 1)$, so it would seem suitable for a possible function to turn the pre-activation value into a value representing a probability. Moreover, the sigmoid function (sometimes called the *logistic function*) has a smooth \"S\"-shape that is perfect for probabilities values transitioning, either growing or shrinking, as the input feature changes.\n",
    "\n",
    "## Cross Entropy loss function\n",
    "\n",
    "Suppose that we have two target values, 0 and 1. Now we are wishing to predict that *probability of each of these labels given a single feature measurement*. Thus, we encounter the conditional probability function:\n",
    "\n",
    "$$\n",
    "P\\Big(y^{(i)}\\mid x^{(i)}\\Big)=\\begin{cases}\n",
    "          \\hat{y}^{(i)}, \\quad &  y^{(i)} = 1 \\\\\n",
    "          1-\\hat{y}^{(i)}, \\quad & y^{(i)} = 0 \\\\\n",
    "     \\end{cases}\n",
    "$$\n",
    "\n",
    "Notice that this conditional probability depends on the value of $\\hat{y}^{(i)}$, which in-turn depends on the values of our weight and bias. Moreover, we wish to *maximize* this probability over all training examples since this quantity is largest when our predicted probabilities are close approximations to the true 0-1 labels. Thus, we seek to solve the following maximization problem:\n",
    "\n",
    "$$\n",
    "\\max_{\\mathbf{w}, b} \\sum_{i=1}^{N}P\\Big(y^{(i)}\\mid x^{(i)}\\Big).\n",
    "$$\n",
    "\n",
    "Before considering this optimization problem, we next recall the famous Bernoulli formula for binary probabilities:\n",
    "$$\n",
    "P\\Big(y^{(i)}\\mid x^{(i)}\\Big) = [\\hat{y}^{(i)}]^{y}[1 - \\hat{y}^{(i)}]^{(1-y)}\n",
    "$$\n",
    "\n",
    "Taking the logorithm on both sides of this equation yields (dropping the index notation to avoid messy equations):\n",
    "$$\n",
    "\\begin{align} \n",
    "\\log P\\Big(y^{(i)}\\mid x^{(i)}\\Big)&= \\log \\hat{y}^{y}(1 - \\hat{y})^{(1-y)}\\\\ \n",
    "&= y\\log \\hat{y} + (1-y) \\log (1 - \\hat{y})\\\\ \n",
    "\\end{align}\n",
    "$$\n",
    "\n",
    "Since the logorithmic function is an *increasing function*, maximimizing $P\\Big(y^{(i)}\\mid x^{(i)}\\Big)$ is equivalent to maximizing $\\log P\\Big(y^{(i)}\\mid x^{(i)}\\Big)$. Equivalently, we could also considering minimizing this function. Thus, we arrive at our single neuron coss/loss function for a single entry of data, which implies a full loss function. \n",
    "\n",
    "### Binary Cross Entropy Loss Function:\n",
    "$$\n",
    "L(\\mathbf{w}, b) = -\\frac{1}{N} \\sum_{i=1}^{N} \\log P\\Big(y^{(i)}\\mid x^{(i)}\\Big) = \\frac{1}{N}\\sum_{i=1}^{N}\\Big[ -y^{(i)}\\log \\hat{y}^{(i)} - (1-y^{(i)}) \\log (1 - \\hat{y}^{(i)})\\Big ]\n",
    "$$\n",
    "\n",
    "### Calculuting the Gradient of Binary Cross Entropy Loss Function\n",
    "In order to optimize the logistic regression single neuron model with stochastic gradient descent, we first need understand how to calculate the gradient. As before, we will consider the cost function on a single instance of data:\n",
    "\n",
    "$$\n",
    "C(w_1, b; x^{(i)},y^{(i)}) = -y^{(i)}\\log \\hat{y}^{(i)} - (1-y^{(i)}) \\log (1 - \\hat{y}^{(i)})\n",
    "$$\n",
    "\n",
    "When considering this equation it is important to remember that $\\hat{y}^{(i)}$ really is a composite function. More specifically, we note\n",
    "\n",
    "$$\n",
    "\\hat{y}^{(i)} = \\sigma(z) = \\sigma(w_1x^{(i)} + b).\n",
    "$$\n",
    "\n",
    "Next we note the particularly nice closed form of the derivative of the sigmoid function.\n",
    "\n",
    "$$\n",
    "\\sigma'(z) = \\sigma(z)(1 - \\sigma(z))\n",
    "$$\n",
    "\n",
    "With these two equations, we are now ready to compute the partial derivatives of $C(w_1, b; x_{1}^{(i)},y^{(i)})$ with respect to $w_1$ and $b$. Note that this cost function contains two pieces, namely $-y^{(i)}\\log \\hat{y}^{(i)}$ and $- (1-y^{(i)}) \\log (1 - \\hat{y}^{(i)})$. Since the derivative is a linear map, we may calculate $\\partial C/ \\partial w_1$ by calculating the the derivative of each piece of this equation and then add them together. \n",
    "\n",
    "$$\n",
    "\\begin{split}\n",
    "\\frac{\\partial}{\\partial w_1}[-y^{(i)}\\log \\hat{y}^{(i)}] & = \\frac{\\partial}{\\partial w_1}[-y^{(i)}\\log \\sigma(w_1 x^{(i)}+b)] \\\\\n",
    " & = - \\frac{y^{(i)}}{\\sigma(w_1 x^{(i)}+b)}\\frac{\\partial}{\\partial w_1} [\\sigma(w_1 x^{(i)}+b)] \\\\\n",
    " & = - \\frac{y^{(i)}}{\\sigma(w_1 x^{(i)}+b)}\\sigma(w_1 x^{(i)}+b)(1 - \\sigma(w_1 x^{(i)}+b))\\frac{\\partial}{\\partial w_1}[w_1 x^{(i)}+b] \\\\\n",
    " & = - y^{(i)}(1 - \\sigma(w_1 x^{(i)}+b))x^{(i)} \\\\\n",
    " & = - y^{(i)}(1 - \\hat{y}^{(i)})x^{(i)} \n",
    "\\end{split}\n",
    "$$\n",
    "\n",
    "$$\n",
    "\\begin{split}\n",
    "\\frac{\\partial}{\\partial w_1}[-(1-y^{(i)}) \\log (1 - \\hat{y}^{(i)})] & = \\frac{\\partial}{\\partial w_1}[-(1-y^{(i)})\\log (1 - \\sigma(w_1 x^{(i)}+b))] \\\\\n",
    " & = - \\frac{(1 - y^{(i)})}{(1 - \\sigma(w_1 x^{(i)}+b))}\\frac{\\partial}{\\partial w_1} [1 - \\sigma(w_1 x^{(i)}+b) ]\\\\\n",
    " & = -  \\frac{(1 - y^{(i)})}{(1 - \\sigma(w_1 x^{(i)}+b))} -\\sigma(w_1 x^{(i)}+b)(1 - \\sigma(w_1 x^{(i)}+b))\\frac{\\partial}{\\partial w_1}[w_1 x^{(i)}+b] \\\\\n",
    " & = (1 - y^{(i)})\\sigma(w_1 x^{(i)}+b))x^{(i)} \\\\\n",
    " & = (1 - y^{(i)})\\hat{y}^{(i)}x^{(i)} \n",
    "\\end{split}\n",
    "$$\n",
    "\n",
    "Now that we have calculated the derivative with respect to $w_1$ for each part of the binary cross entropy loss function, we next sum these derivatives:\n",
    "\n",
    "$$\n",
    "\\begin{split}\n",
    "\\frac{\\partial C(w_1, b; x^{(i)},y^{(i)})}{\\partial w_1} & = - y^{(i)}(1 - \\hat{y}^{(i)})x^{(i)} + (1 - y^{(i)})\\hat{y}^{(i)}x^{(i)} \\\\\n",
    " & = [- y^{(i)}(1 - \\hat{y}^{(i)}) + (1 - y^{(i)})\\hat{y}^{(i)}]x^{(i)} \\\\\n",
    " & = [- y^{(i)} + y^{(i)}\\hat{y}^{(i)} + \\hat{y}^{(i)} - y^{(i)}\\hat{y}^{(i)}]x^{(i)} \\\\\n",
    " & = (\\hat{y}^{(i)} - y^{(i)}) x^{(i)}\n",
    "\n",
    "\\end{split}\n",
    "$$\n",
    "\n",
    "A similar calculation also yields the partial derivative of our cost function with respect to the bias $b$:\n",
    "\n",
    "$$\n",
    "\\frac{\\partial C(w_1, b; x^{(i)},y^{(i)})}{\\partial b} = (\\hat{y}^{(i)} - y^{(i)})\n",
    "$$\n",
    "\n",
    "---"
   ]
  },
  {
   "cell_type": "markdown",
   "metadata": {},
   "source": [
    "## Coding\n",
    "\n",
    "This part we will give the implementation of Sigmoid activation function, binary Cross Entropy Loss Function and logistic regression algorithms with python code."
   ]
  },
  {
   "cell_type": "markdown",
   "metadata": {},
   "source": [
    "Sigmoid activation function Implementation"
   ]
  },
  {
   "cell_type": "code",
   "execution_count": 1,
   "metadata": {},
   "outputs": [],
   "source": [
    "def sigmoid(z):\n",
    "    return 1.0/(1.0 + np.exp(-z))"
   ]
  },
  {
   "cell_type": "markdown",
   "metadata": {},
   "source": [
    "Binary Cross Entropy Loss Function Implementation"
   ]
  },
  {
   "cell_type": "code",
   "execution_count": 2,
   "metadata": {},
   "outputs": [],
   "source": [
    "def cross_entropy_loss(y_hat, y):\n",
    "    return - y*np.log(y_hat) - (1 - y)*np.log(1 - y_hat)"
   ]
  },
  {
   "cell_type": "markdown",
   "metadata": {},
   "source": [
    "Logistic regression algorithms implementation"
   ]
  },
  {
   "cell_type": "code",
   "execution_count": 3,
   "metadata": {},
   "outputs": [],
   "source": [
    "class SingleNeuron(object):\n",
    "    \"\"\"\n",
    "    A class used to represent a single artificial neuron. \n",
    "\n",
    "    ...\n",
    "\n",
    "    Attributes\n",
    "    ----------\n",
    "    activation_function : function\n",
    "        The activation function applied to the preactivation linear combination.\n",
    "    \n",
    "    cost_function : function\n",
    "        The cost function used to measure model performance.\n",
    "\n",
    "    w_ : numpy.ndarray\n",
    "        The weights and bias of the single neuron. The last entry being the bias. \n",
    "        This attribute is created when the train method is called.\n",
    "\n",
    "    errors_: list\n",
    "        A list containing the mean sqaured error computed after each iteration \n",
    "        of stochastic gradient descent per epoch. \n",
    "\n",
    "    Methods\n",
    "    -------\n",
    "    train(self, X, y, alpha = 0.005, epochs = 50)\n",
    "        Iterates the stochastic gradient descent algorithm through each sample \n",
    "        a total of epochs number of times with learning rate alpha. The data \n",
    "        used consists of feature vectors X and associated labels y. \n",
    "\n",
    "    predict(self, X)\n",
    "        Uses the weights and bias, the feature vectors in X, and the \n",
    "        activation_function to make a y_hat prediction on each feature vector. \n",
    "    \"\"\"\n",
    "    def __init__(self, activation_function, cost_function):\n",
    "        self.activation_function = activation_function\n",
    "        self.cost_function = cost_function\n",
    "\n",
    "    def train(self, X, y, alpha = 0.005, epochs = 50):\n",
    "   \n",
    "        self.w_ = np.random.rand(1 + X.shape[1])\n",
    "        self.errors_ = []\n",
    "        N = X.shape[0]\n",
    "\n",
    "        for _ in range(epochs):\n",
    "            errors = 0\n",
    "            for xi, target in zip(X, y):\n",
    "                self.w_[:-1] -= alpha*(self.predict(xi) - target)*xi\n",
    "                self.w_[-1] -= alpha*(self.predict(xi) - target)\n",
    "                #errors += .5*((self.predict(xi) - target)**2)\n",
    "                errors += self.cost_function(self.predict(xi), target)\n",
    "            self.errors_.append(errors/N)\n",
    "        return self\n",
    "\n",
    "    def predict(self, X):\n",
    "        preactivation = np.dot(X, self.w_[:-1]) + self.w_[-1]\n",
    "        return self.activation_function(preactivation)\n",
    "\n",
    "\n",
    "    def plot_cost_function(self):\n",
    "        fig, axs = plt.subplots(figsize = (10, 8))\n",
    "        axs.plot(range(1, len(self.errors_) + 1), \n",
    "                self.errors_,\n",
    "                label = \"Cost function\")\n",
    "        axs.set_xlabel(\"epochs\", fontsize = 15)\n",
    "        axs.set_ylabel(\"Cost\", fontsize = 15)\n",
    "        axs.legend(fontsize = 15)\n",
    "        axs.set_title(\"Cost Calculated after Epoch During Training\", fontsize = 18)\n",
    "        plt.show()\n",
    "\n",
    "    def plot_decision_boundary(self, X, y, xstring=\"x\", ystring=\"y\"):\n",
    "        plt.figure(figsize = (10, 8))\n",
    "        plot_decision_regions(X, y, clf = self)\n",
    "        plt.title(\"Logistic Regression Neuron Decision Boundary\", fontsize = 18)\n",
    "        plt.xlabel(xstring, fontsize = 15)\n",
    "        plt.ylabel(ystring, fontsize = 15)\n",
    "        plt.show()"
   ]
  },
  {
   "cell_type": "code",
   "execution_count": 4,
   "metadata": {
    "colab": {
     "base_uri": "https://localhost:8080/",
     "height": 876
    },
    "id": "Xg2h-0NGilVm",
    "outputId": "ed05aadd-48be-4abb-b56c-2254d13255af",
    "scrolled": true
   },
   "outputs": [],
   "source": [
    "# import matplotlib.pyplot as plt\n",
    "# import numpy as np\n",
    "# import pandas as pd\n",
    "# import seaborn as sns\n",
    "\n",
    "# # Import a nice function for plotting decision boudaries\n",
    "# from mlxtend.plotting import plot_decision_regions\n",
    "\n",
    "# # Set the Seaborn theme\n",
    "# sns.set_theme()\n",
    "\n",
    "# # Read the iris dataset into a pandas DataFrame object with seaborn\n",
    "# df = sns.load_dataset(\"iris\")\n",
    "\n",
    "# print(df)\n",
    "\n",
    "# setosa = df[df.species == \"setosa\"]\n",
    "# versicolor = df[df.species == \"versicolor\"]\n",
    "# virginica = df[df.species == \"virginica\"]\n",
    "\n",
    "# fig, (ax1, ax2) = plt.subplots(1, 2, figsize=(15,10))\n",
    "\n",
    "# ax1.scatter(setosa.sepal_length, \n",
    "#             setosa.sepal_width, \n",
    "#             color = \"red\", \n",
    "#             label = \"setosa\")\n",
    "# ax1.scatter(versicolor.sepal_length, \n",
    "#             versicolor.sepal_width, \n",
    "#             color = \"magenta\", \n",
    "#             label = \"versicolor\")\n",
    "# ax1.set_xlabel(\"sepal length [cm]\", fontsize = 15)\n",
    "# ax1.set_ylabel(\"sepal width [cm]\", fontsize = 15)\n",
    "# ax1.legend(fontsize = 15, loc = \"upper left\")\n",
    "# ax1.set_title(\"Linearly Seperable Data\", fontsize = 18)\n",
    "\n",
    "\n",
    "# ax2.scatter(versicolor.petal_length, \n",
    "#             versicolor.sepal_length, \n",
    "#             color = \"magenta\", \n",
    "#             label = \"versicolor\")\n",
    "# ax2.scatter(virginica.petal_length, \n",
    "#             virginica.sepal_length, \n",
    "#             color = \"lightseagreen\", \n",
    "#             label = \"virginica\")\n",
    "# ax2.set_xlabel(\"petal length [cm]\", fontsize = 15)\n",
    "# ax2.set_ylabel(\"sepal length [cm]\", fontsize = 15)\n",
    "# ax2.legend(fontsize = 15, loc = \"upper left\")\n",
    "# ax2.set_title(\"Non-Linearly Seperable Data\", fontsize = 18)\n",
    "# plt.show()"
   ]
  },
  {
   "cell_type": "markdown",
   "metadata": {},
   "source": [
    "## Implementation\n",
    "\n",
    "After showing the code part of the logistic regression algorithm, we will implement the code into the dataset. The dataset is palmer penguins, we want to use logistic regression algorithms to judge the sex of penguins based on the penguins' body mass and flipper length."
   ]
  },
  {
   "cell_type": "code",
   "execution_count": 5,
   "metadata": {
    "colab": {
     "base_uri": "https://localhost:8080/",
     "height": 307
    },
    "id": "x81XEcMso05C",
    "outputId": "404cab75-855c-41e5-e683-5928f68c26bc"
   },
   "outputs": [
    {
     "data": {
      "image/png": "[encoded data removed]",
      "text/plain": [
       "<Figure size 432x288 with 1 Axes>"
      ]
     },
     "metadata": {},
     "output_type": "display_data"
    }
   ],
   "source": [
    "import matplotlib.pyplot as plt\n",
    "import numpy as np\n",
    "import pandas as pd\n",
    "import seaborn as sns\n",
    "\n",
    "# Import a nice function for plotting decision boudaries\n",
    "from mlxtend.plotting import plot_decision_regions\n",
    "\n",
    "# Set the Seaborn theme\n",
    "sns.set_theme()\n",
    "\n",
    "df = pd.read_csv(\"./Datasets/palmer_penguins.csv\")\n",
    "df[\"body_mass\"] = df.body_mass_g.apply(lambda x: float(x)/100)\n",
    "\n",
    "male = df[df.sex == \"Male\"]\n",
    "female = df[df.sex == \"Female\"]\n",
    "\n",
    "male = male.iloc[:50]\n",
    "female = female.iloc[:50]\n",
    "\n",
    "plt.scatter(male.body_mass_g, \n",
    "            male.flipper_length_mm, \n",
    "            color = \"magenta\", \n",
    "            label = \"male\")\n",
    "plt.scatter(female.body_mass_g, \n",
    "            female.flipper_length_mm, \n",
    "            color = \"lightseagreen\", \n",
    "            label = \"female\")\n",
    "plt.xlabel(\"body mass [g]\", fontsize = 15)\n",
    "plt.ylabel(\"flipper length [mm]\", fontsize = 15)\n",
    "plt.legend(fontsize = 15, loc = \"upper left\")\n",
    "plt.title(\"Non-Linearly Seperable Data\", fontsize = 18)\n",
    "plt.show()"
   ]
  },
  {
   "cell_type": "markdown",
   "metadata": {
    "id": "E7Jd39oFilVo"
   },
   "source": [
    "---\n",
    "\n",
    "As you can see in the left figure generated above, it is impossible to split the versicolor and virginica flowers by any linear function. The reason for this is that the two species of flowers on the left overlap in the same regions of space. \n",
    "\n",
    "---\n",
    "\n",
    "**Question.** How will overlapping data effect the training process for a Perceptron single neuron?\n",
    "\n",
    "---\n",
    "\n",
    "However, notice that in the non-linearly seperable case, the probability of selecting a versicolor flower is higher than the probability of selecting a virginica flower whenever petal length is less that 4.75. Conversely, the probability of selecting a virginica flower is higher than the probability of selecting a versicolor flower whenever the petal length is higher than 4.75. \n",
    "\n",
    "Observing this, label each versicolor flower by 0 and each virginica flower by 1. Then, only using the petal length as our feature measurment observe the figure generated by running the following code in the cell below. \n",
    "\n",
    "---"
   ]
  },
  {
   "cell_type": "code",
   "execution_count": 6,
   "metadata": {
    "colab": {
     "base_uri": "https://localhost:8080/",
     "height": 524
    },
    "id": "gaEvzTCpilVp",
    "outputId": "67c2cf9c-8545-4fa8-cedf-37d45d7c341b"
   },
   "outputs": [
    {
     "data": {
      "image/png": "[encoded data removed]",
      "text/plain": [
       "<Figure size 720x576 with 1 Axes>"
      ]
     },
     "metadata": {},
     "output_type": "display_data"
    }
   ],
   "source": [
    "plt.figure(figsize = (10, 8))\n",
    "plt.xlim((25, 50))\n",
    "\n",
    "male['body_mass'] = male.body_mass_g.apply(lambda x: float(x)/100)\n",
    "female['body_mass'] = female.body_mass_g.apply(lambda x: float(x)/100)\n",
    "\n",
    "# the first input element is x and the second input element is y\n",
    "plt.scatter(male.body_mass, \n",
    "            np.ones(50), \n",
    "            color = \"lightseagreen\", \n",
    "            label = \"male\")\n",
    "plt.scatter(female.body_mass, \n",
    "            np.zeros(50), \n",
    "            color = \"magenta\", \n",
    "            label = \"female\") \n",
    "plt.vlines(36.5, 0.0, 1.0)\n",
    "plt.xlabel(\"body mass [kg]\", fontsize = 15)\n",
    "plt.ylabel(\"label\", fontsize = 15)\n",
    "plt.legend(fontsize = 15, loc = \"upper left\")\n",
    "plt.title(\"Non-Linearly Seperable Data\", fontsize = 18)\n",
    "plt.show()"
   ]
  },
  {
   "cell_type": "code",
   "execution_count": 7,
   "metadata": {
    "colab": {
     "base_uri": "https://localhost:8080/",
     "height": 636
    },
    "id": "22tJSU5eilVq",
    "outputId": "6a3d020f-9216-42c4-d993-08de62f7b4cf"
   },
   "outputs": [
    {
     "data": {
      "image/png": "[encoded data removed]",
      "text/plain": [
       "<Figure size 1080x720 with 2 Axes>"
      ]
     },
     "metadata": {},
     "output_type": "display_data"
    }
   ],
   "source": [
    "fig, (ax1, ax2) = plt.subplots(1, 2, figsize=(15,10))\n",
    "\n",
    "ax1.set_xlim(25, 50)\n",
    "ax1.scatter(female.body_mass, \n",
    "            np.zeros(50), \n",
    "            color = \"magenta\", \n",
    "            label = \"female\")\n",
    "ax1.scatter(male.body_mass, \n",
    "            np.ones(50), \n",
    "            color = \"lightseagreen\", \n",
    "            label = \"male\")\n",
    "ax1.set_xlabel(\"body mass [kg]\", fontsize = 15)\n",
    "ax1.set_ylabel(\"label\", fontsize = 15)\n",
    "ax1.set_title(\"Non-Linearly Seperable Data\", fontsize = 18)\n",
    "\n",
    "domain = np.linspace(-25, 25, 100)\n",
    "ax2.plot(domain, \n",
    "        sigmoid(domain), \n",
    "        color = \"blue\", \n",
    "        label = \"$\\sigma$(z)\")\n",
    "ax2.set_xlabel(\"z = wx + b\", fontsize = 18)\n",
    "ax2.set_ylabel(\"$sigma(z)$\", fontsize = 15)\n",
    "ax2.set_title(\"The Sigmoid Function\", fontsize = 18)\n",
    "plt.show()"
   ]
  },
  {
   "cell_type": "code",
   "execution_count": null,
   "metadata": {
    "id": "K3FToXMiilVr"
   },
   "outputs": [],
   "source": []
  },
  {
   "cell_type": "markdown",
   "metadata": {
    "id": "SZS3slSdilVr"
   },
   "source": [
    "---\n",
    "\n",
    "Now that we have defined a custom ```SingleNeuron``` class we are one step closer to training our model on the data at hand. However, before instantiating an instance of the ```SingleNeuron``` class we must first write a function for the binary cross entropy loss. Afterwards we may then create an instantance of our ```SingleNeuron```. Once this is done we need to convert the versicolor and virginica petal length measurements to a ```numpy.ndarray``` and reshape it into a column vector representation (**recall that this is necessary whenever our feature measurements consist of a single measurement**). We then need to create a target $y$ ```numpy.ndarray``` which assigns the labels 0 and 1 to the versicolor and virginica species, respectively. \n",
    "\n",
    "Once we have our feature vector and target vector we can then pass these values into the ```SingleNeuron.train()``` method to train our logistic single neuron with stochastic gradient descent. All of this can be done by running the following code in the cell below.\n",
    "\n",
    "\n",
    "---"
   ]
  },
  {
   "cell_type": "code",
   "execution_count": 8,
   "metadata": {
    "colab": {
     "base_uri": "https://localhost:8080/"
    },
    "id": "Sdfs-Scjh6I1",
    "outputId": "5e8e9a0f-1bec-43c7-a8ab-8fd87d5b196a"
   },
   "outputs": [
    {
     "data": {
      "text/plain": [
       "<__main__.SingleNeuron at 0x271d7852d30>"
      ]
     },
     "execution_count": 8,
     "metadata": {},
     "output_type": "execute_result"
    }
   ],
   "source": [
    "node = SingleNeuron(sigmoid, cross_entropy_loss)\n",
    "\n",
    "X = df.iloc[50:].body_mass.values\n",
    "X = X.reshape(-1, 1)\n",
    "y = np.where(df.iloc[50:].sex == \"Female\", 0, 1)\n",
    "\n",
    "node.train(X, y, alpha = 0.001, epochs = 10)"
   ]
  },
  {
   "cell_type": "markdown",
   "metadata": {
    "id": "BNreMYpDilVs"
   },
   "source": [
    "---\n",
    "\n",
    "Now that we have trained the variable ```node```, we can now visualize the binary cross entropy loss over each epoch by plotting the values in the ```SingleNeuron.errors_``` attribute. This can be done by running the following code in the cell below. \n",
    "\n",
    "\n",
    "---"
   ]
  },
  {
   "cell_type": "code",
   "execution_count": 9,
   "metadata": {
    "colab": {
     "base_uri": "https://localhost:8080/",
     "height": 524
    },
    "id": "9Qm1DsZOilVt",
    "outputId": "62bad915-81fb-44a2-9ab6-c052f87967ba"
   },
   "outputs": [
    {
     "data": {
      "image/png": "[encoded data removed]",
      "text/plain": [
       "<Figure size 720x576 with 1 Axes>"
      ]
     },
     "metadata": {},
     "output_type": "display_data"
    }
   ],
   "source": [
    "node.plot_cost_function()\n",
    "plt.show()"
   ]
  },
  {
   "cell_type": "markdown",
   "metadata": {
    "id": "8-hWg-dQilVt"
   },
   "source": [
    "---\n",
    "\n",
    "This looks good! Visualizing the cost function over the epochs during training helps us verify that are neuron is indeed learning over time. We can next visualize our hypthesis function, or prediction function (recall in all supervised machine learning we are learning a function $h$ which approximates the true target function $f$), by plotting the ```SingleNeuron.predict()``` method over the scattered data points in question. This can be done by running the following code in the cell below.\n",
    "\n",
    "\n",
    "---"
   ]
  },
  {
   "cell_type": "code",
   "execution_count": 10,
   "metadata": {
    "colab": {
     "base_uri": "https://localhost:8080/",
     "height": 524
    },
    "id": "McwUNdZyilVt",
    "outputId": "61b5b291-a7b9-43c0-d014-143d1f7a6002"
   },
   "outputs": [
    {
     "data": {
      "image/png": "[encoded data removed]",
      "text/plain": [
       "<Figure size 720x576 with 1 Axes>"
      ]
     },
     "metadata": {},
     "output_type": "display_data"
    }
   ],
   "source": [
    "plt.figure(figsize = (10, 8))\n",
    "plt.xlim((2.75, 7 ))\n",
    "plt.scatter(female.body_mass, \n",
    "            np.zeros(50), \n",
    "            color = \"magenta\", \n",
    "            label = \"female\")\n",
    "plt.scatter(male.body_mass, \n",
    "            np.ones(50), \n",
    "            color = \"lightseagreen\", \n",
    "            label = \"male\")\n",
    "\n",
    "domain = np.linspace(2.75, 7, 100)\n",
    "plt.plot(domain, node.predict(domain.reshape(-1, 1)))\n",
    "plt.xlabel(\"body mass [g]\", fontsize = 15)\n",
    "plt.ylabel(\"label\", fontsize = 15)\n",
    "plt.legend(fontsize = 15, loc = \"upper left\")\n",
    "plt.title(\"The Learned Logistic Curve\", fontsize = 18)\n",
    "plt.show()"
   ]
  },
  {
   "cell_type": "code",
   "execution_count": 11,
   "metadata": {
    "colab": {
     "base_uri": "https://localhost:8080/"
    },
    "id": "yCGNb5mKilVu",
    "outputId": "cb2e3546-5adf-4b9a-ea2e-2ebb7e4c2b47"
   },
   "outputs": [
    {
     "data": {
      "text/plain": [
       "array([0.72892902, 0.73285769, 0.71773772, 0.73207486, 0.72256821,\n",
       "       0.74213758, 0.72971765, 0.73674998, 0.71773772, 0.73519745,\n",
       "       0.72576009, 0.73752405, 0.72096371, 0.74290134, 0.72971765,\n",
       "       0.73441899, 0.72892902, 0.73829665, 0.73129057, 0.73983745,\n",
       "       0.73129057, 0.73441899, 0.72892902, 0.73597445, 0.72336832,\n",
       "       0.74669787, 0.73285769, 0.73906779, 0.72576009, 0.72892902,\n",
       "       0.73285769, 0.72813895, 0.73519745, 0.72971765, 0.72892902,\n",
       "       0.74060563, 0.72655448, 0.74290134, 0.72496427, 0.74060563,\n",
       "       0.73129057, 0.74137235, 0.71854634, 0.73752405, 0.7316829 ,\n",
       "       0.74707548, 0.72136537, 0.73983745, 0.71895012, 0.72892902,\n",
       "       0.73207486, 0.73441899, 0.72296844, 0.74782958, 0.73324856,\n",
       "       0.74518371, 0.72336832, 0.74022172, 0.73441899, 0.7371372 ,\n",
       "       0.71854634, 0.73246646, 0.72576009, 0.72536236, 0.72256821,\n",
       "       0.72813895, 0.72734744, 0.73402921, 0.72096371, 0.73597445,\n",
       "       0.72456582, 0.74060563, 0.72096371, 0.73597445, 0.72536236,\n",
       "       0.72813895, 0.72813895, 0.74328266, 0.72695114, 0.73441899,\n",
       "       0.72296844, 0.73558613, 0.72655448, 0.73983745, 0.72655448,\n",
       "       0.72774337, 0.72096371, 0.7316829 , 0.72015934, 0.73050484,\n",
       "       0.73983745, 0.72774337, 0.72734744, 0.73207486, 0.73129057,\n",
       "       0.73597445, 0.72813895, 0.73441899, 0.73050484, 0.72853417,\n",
       "       0.7316829 , 0.73519745, 0.72416701, 0.73207486, 0.73829665,\n",
       "       0.73129057, 0.73285769, 0.73246646, 0.73129057, 0.73674998,\n",
       "       0.72932352, 0.73674998, 0.72496427, 0.73129057, 0.72734744,\n",
       "       0.74213758, 0.72971765, 0.72655448, 0.71854634, 0.73285769,\n",
       "       0.72496427, 0.73829665, 0.72655448, 0.73285769, 0.73129057,\n",
       "       0.7444244 , 0.72336832, 0.74060563, 0.72576009, 0.73752405,\n",
       "       0.72971765, 0.73441899, 0.73363907, 0.74820607, 0.71530343,\n",
       "       0.74366361, 0.73519745, 0.73050484, 0.72892902, 0.72813895,\n",
       "       0.73089789, 0.74290134, 0.72655448, 0.74060563, 0.72416701,\n",
       "       0.73089789, 0.72536236, 0.73519745, 0.72971765, 0.73674998,\n",
       "       0.72576009, 0.72734744, 0.72416701, 0.73674998, 0.73285769,\n",
       "       0.72853417, 0.73519745, 0.73050484, 0.73050484, 0.73597445,\n",
       "       0.72655448, 0.73246646, 0.73752405, 0.73246646, 0.74366361,\n",
       "       0.76150985, 0.74290134, 0.76150985, 0.75712949, 0.7444244 ,\n",
       "       0.74820607, 0.75417905, 0.74213758, 0.75343768, 0.74594154,\n",
       "       0.75932647, 0.74594154, 0.76367957, 0.73906779, 0.76367957,\n",
       "       0.73829665, 0.77010665, 0.74820607, 0.75639414, 0.76150985,\n",
       "       0.75120455, 0.74213758, 0.75195042, 0.75120455, 0.7526948 ,\n",
       "       0.76078357, 0.74518371, 0.75932647, 0.75491892, 0.74669787,\n",
       "       0.75195042, 0.76655128, 0.75343768, 0.75712949, 0.75045717,\n",
       "       0.75491892, 0.74137235, 0.75639414, 0.73519745, 0.76150985,\n",
       "       0.74060563, 0.74745272, 0.75932647, 0.7497083 , 0.73906779,\n",
       "       0.75712949, 0.7526948 , 0.75565728, 0.74895793, 0.75565728,\n",
       "       0.74213758, 0.75120455, 0.7497083 , 0.75195042, 0.74060563,\n",
       "       0.75120455, 0.74290134, 0.75932647, 0.73906779, 0.75565728,\n",
       "       0.74213758, 0.76078357, 0.74669787, 0.76150985, 0.76295785,\n",
       "       0.74669787, 0.75932647, 0.74745272, 0.75120455, 0.7526948 ,\n",
       "       0.75417905, 0.74669787, 0.76295785, 0.74518371, 0.76583564,\n",
       "       0.74745272, 0.76511847, 0.74556281, 0.75786333, 0.74707548,\n",
       "       0.75639414, 0.74745272, 0.76005578, 0.74518371, 0.75565728,\n",
       "       0.7493333 , 0.75932647, 0.75045717, 0.75712949, 0.74745272,\n",
       "       0.76078357, 0.74895793, 0.75417905, 0.75008292, 0.7493333 ,\n",
       "       0.74556281, 0.75491892, 0.74895793, 0.76005578, 0.75083105,\n",
       "       0.75859565, 0.75859565, 0.74669787, 0.75859565, 0.74480424,\n",
       "       0.75859565, 0.75120455, 0.76511847, 0.74594154, 0.75859565,\n",
       "       0.74175515, 0.76367957, 0.76583564, 0.75008292, 0.74895793,\n",
       "       0.76223461, 0.75417905, 0.75712949])"
      ]
     },
     "execution_count": 11,
     "metadata": {},
     "output_type": "execute_result"
    }
   ],
   "source": [
    "node.predict(X)"
   ]
  },
  {
   "cell_type": "markdown",
   "metadata": {
    "id": "8Iof70YUilVu"
   },
   "source": [
    "---\n",
    "\n",
    "When using the trained weights and bias of our logistic single neuron to predict a class on a given measurement, we will need to convert the predicted probabilities to zeros and ones. This can be done by passing the ```numpy.ndarray``` returned by the ```SingleNeuron.predict()``` method into the ```numpy.rint()``` method. Moreover, we can use the resulting ```numpy.ndarray``` to compute the classification error over our training data given by the formula\n",
    "\n",
    "$$\n",
    "E_c = \\frac{1}{N}\\sum_{i=1}^{N}[\\hat{y}^{(i)} \\neq y^{(i)}],\n",
    "$$\n",
    "\n",
    "where $[\\hat{y}^{(i)} \\neq y^{(i)}] = 1$ whenever $\\hat{y}^{(i)} \\neq y^{(i)}$, and zero otherwise. Run the following code in the cell below to view this classification error. \n",
    "\n",
    "\n",
    "---"
   ]
  },
  {
   "cell_type": "code",
   "execution_count": 12,
   "metadata": {
    "colab": {
     "base_uri": "https://localhost:8080/"
    },
    "id": "QpgfqW5KilVu",
    "outputId": "36c52ca5-0a43-4d25-e280-323b4e8e7024"
   },
   "outputs": [
    {
     "data": {
      "text/plain": [
       "array([ True, False,  True, False,  True, False,  True, False,  True,\n",
       "       False,  True, False,  True, False,  True, False,  True, False,\n",
       "        True, False,  True, False,  True, False,  True, False,  True,\n",
       "       False,  True, False, False,  True, False,  True,  True, False,\n",
       "        True, False,  True, False,  True, False,  True, False,  True,\n",
       "       False,  True, False,  True, False,  True, False,  True, False,\n",
       "        True, False,  True, False,  True, False,  True, False,  True,\n",
       "       False,  True, False,  True, False,  True, False,  True, False,\n",
       "        True, False,  True, False,  True, False,  True, False,  True,\n",
       "       False,  True, False,  True, False,  True, False,  True, False,\n",
       "       False,  True,  True, False,  True, False,  True, False, False,\n",
       "        True, False,  True,  True, False,  True, False,  True, False,\n",
       "        True, False,  True, False, False,  True,  True, False,  True,\n",
       "       False,  True, False,  True, False,  True, False,  True, False,\n",
       "        True, False,  True, False, False,  True,  True, False,  True,\n",
       "       False, False,  True, False,  True,  True, False,  True, False,\n",
       "       False,  True,  True, False,  True, False,  True, False,  True,\n",
       "       False, False,  True, False,  True,  True, False,  True, False,\n",
       "       False,  True,  True, False,  True, False, False,  True,  True,\n",
       "       False,  True, False,  True, False,  True, False,  True, False,\n",
       "        True, False,  True, False, False,  True,  True, False,  True,\n",
       "       False, False,  True, False, False,  True,  True, False,  True,\n",
       "       False,  True, False,  True, False,  True, False,  True, False,\n",
       "       False,  True,  True, False,  True, False,  True, False,  True,\n",
       "       False,  True, False,  True, False,  True, False,  True, False,\n",
       "        True, False,  True, False, False,  True, False,  True, False,\n",
       "       False,  True,  True, False,  True, False,  True, False,  True,\n",
       "       False,  True, False,  True, False,  True, False,  True, False,\n",
       "        True, False,  True, False,  True, False, False,  True,  True,\n",
       "       False,  True, False,  True, False, False,  True, False,  True,\n",
       "       False,  True, False,  True, False,  True, False, False,  True,\n",
       "        True, False,  True, False])"
      ]
     },
     "execution_count": 12,
     "metadata": {},
     "output_type": "execute_result"
    }
   ],
   "source": [
    "np.rint(node.predict(X)) != y"
   ]
  },
  {
   "cell_type": "code",
   "execution_count": 13,
   "metadata": {
    "colab": {
     "base_uri": "https://localhost:8080/"
    },
    "id": "5pG4NHkwilVu",
    "outputId": "0777d268-c901-44a0-c73c-3262c6b8995e"
   },
   "outputs": [
    {
     "name": "stdout",
     "output_type": "stream",
     "text": [
      "Classification Error = 0.49469964664310956\n"
     ]
    }
   ],
   "source": [
    "classification_error = (np.rint(node.predict(X)) != y).astype(int)\n",
    "print(f\"Classification Error = {sum(classification_error)/ len(y)}\")"
   ]
  },
  {
   "cell_type": "markdown",
   "metadata": {
    "id": "5J4irvrDilVv"
   },
   "source": [
    "---\n",
    "\n",
    "This is a great classification error on our training data! We can now view our decision boundary implied by the trained weights and bias by running the following code in the cell below.\n",
    "\n",
    "\n",
    "\n",
    "---"
   ]
  },
  {
   "cell_type": "code",
   "execution_count": 14,
   "metadata": {
    "colab": {
     "base_uri": "https://localhost:8080/",
     "height": 579
    },
    "id": "NJdQiF-cilVv",
    "outputId": "35921da4-284a-42a7-f9f1-aa6d5f122c90"
   },
   "outputs": [
    {
     "name": "stderr",
     "output_type": "stream",
     "text": [
      "C:\\Users\\user\\anaconda3\\lib\\site-packages\\mlxtend\\plotting\\decision_regions.py:269: UserWarning: No contour levels were found within the data range.\n",
      "  ax.contour(xx, yy, Z, cset.levels, **contour_kwargs)\n"
     ]
    },
    {
     "data": {
      "image/png": "[encoded data removed]",
      "text/plain": [
       "<Figure size 720x576 with 1 Axes>"
      ]
     },
     "metadata": {},
     "output_type": "display_data"
    }
   ],
   "source": [
    "node.plot_decision_boundary(X, y)\n",
    "plt.show()"
   ]
  },
  {
   "cell_type": "markdown",
   "metadata": {
    "id": "Vbz1G0aHilVv"
   },
   "source": [
    "---\n",
    "\n",
    "## Logistic Regression Single Neuron with Multiple Inputs\n",
    "Thus far we have only used a single feature measurement as input into our logistic regression single neuron model, but what happens when we use *multiple measurements*. For example, we could use petal length and petal width. With two inputs our model can be depicted by the figure below.\n",
    "\n",
    "The Logistic Single Neuron Model with Multiple Feature Inputs\n",
    "---\n",
    "\n",
    "<p align=\"center\">\n",
    "    <img src=\"multi_logistic_neuron.png\" width=\"500\">\n",
    "</p>\n",
    "\n",
    "---\n",
    "\n",
    "Let us next instantiate a ```SingleNeuron``` model with petal length and sepal length measurements as input, train this model with the same learning rate and number of epochs as the variable ```node```, and then compare the cost function over epochs between the two models. This can be done by running the following code in the cell below. \n",
    "\n",
    "\n",
    "---"
   ]
  },
  {
   "cell_type": "code",
   "execution_count": 15,
   "metadata": {
    "colab": {
     "base_uri": "https://localhost:8080/",
     "height": 524
    },
    "id": "OsKT_OVCilVv",
    "outputId": "fdbc1b5d-8df3-4e31-f70d-170e4bf3112d"
   },
   "outputs": [
    {
     "ename": "KeyError",
     "evalue": "\"None of [Index(['petal_length', 'sepal_length'], dtype='object')] are in the [columns]\"",
     "output_type": "error",
     "traceback": [
      "\u001b[1;31m---------------------------------------------------------------------------\u001b[0m",
      "\u001b[1;31mKeyError\u001b[0m                                  Traceback (most recent call last)",
      "Input \u001b[1;32mIn [15]\u001b[0m, in \u001b[0;36m<cell line: 6>\u001b[1;34m()\u001b[0m\n\u001b[0;32m      2\u001b[0m node_two \u001b[38;5;241m=\u001b[39m SingleNeuron(sigmoid, cross_entropy_loss)\n\u001b[0;32m      4\u001b[0m \u001b[38;5;66;03m# Create a numpy.ndarray of petal length and sepal length values for\u001b[39;00m\n\u001b[0;32m      5\u001b[0m \u001b[38;5;66;03m# the versicolor and virginica flowers, respectively. \u001b[39;00m\n\u001b[1;32m----> 6\u001b[0m X_two \u001b[38;5;241m=\u001b[39m \u001b[43mdf\u001b[49m\u001b[38;5;241;43m.\u001b[39;49m\u001b[43miloc\u001b[49m\u001b[43m[\u001b[49m\u001b[38;5;241;43m50\u001b[39;49m\u001b[43m:\u001b[49m\u001b[43m]\u001b[49m\u001b[43m[\u001b[49m\u001b[43m[\u001b[49m\u001b[38;5;124;43m\"\u001b[39;49m\u001b[38;5;124;43mpetal_length\u001b[39;49m\u001b[38;5;124;43m\"\u001b[39;49m\u001b[43m,\u001b[49m\u001b[43m \u001b[49m\u001b[38;5;124;43m\"\u001b[39;49m\u001b[38;5;124;43msepal_length\u001b[39;49m\u001b[38;5;124;43m\"\u001b[39;49m\u001b[43m]\u001b[49m\u001b[43m]\u001b[49m\u001b[38;5;241m.\u001b[39mvalues\n\u001b[0;32m      8\u001b[0m \u001b[38;5;66;03m# Train the new single neuron model on the new feature vectors.\u001b[39;00m\n\u001b[0;32m      9\u001b[0m node_two\u001b[38;5;241m.\u001b[39mtrain(X_two, y, alpha \u001b[38;5;241m=\u001b[39m \u001b[38;5;241m0.01\u001b[39m, epochs \u001b[38;5;241m=\u001b[39m \u001b[38;5;241m10_000\u001b[39m)\n",
      "File \u001b[1;32m~\\anaconda3\\lib\\site-packages\\pandas\\core\\frame.py:3511\u001b[0m, in \u001b[0;36mDataFrame.__getitem__\u001b[1;34m(self, key)\u001b[0m\n\u001b[0;32m   3509\u001b[0m     \u001b[38;5;28;01mif\u001b[39;00m is_iterator(key):\n\u001b[0;32m   3510\u001b[0m         key \u001b[38;5;241m=\u001b[39m \u001b[38;5;28mlist\u001b[39m(key)\n\u001b[1;32m-> 3511\u001b[0m     indexer \u001b[38;5;241m=\u001b[39m \u001b[38;5;28;43mself\u001b[39;49m\u001b[38;5;241;43m.\u001b[39;49m\u001b[43mcolumns\u001b[49m\u001b[38;5;241;43m.\u001b[39;49m\u001b[43m_get_indexer_strict\u001b[49m\u001b[43m(\u001b[49m\u001b[43mkey\u001b[49m\u001b[43m,\u001b[49m\u001b[43m \u001b[49m\u001b[38;5;124;43m\"\u001b[39;49m\u001b[38;5;124;43mcolumns\u001b[39;49m\u001b[38;5;124;43m\"\u001b[39;49m\u001b[43m)\u001b[49m[\u001b[38;5;241m1\u001b[39m]\n\u001b[0;32m   3513\u001b[0m \u001b[38;5;66;03m# take() does not accept boolean indexers\u001b[39;00m\n\u001b[0;32m   3514\u001b[0m \u001b[38;5;28;01mif\u001b[39;00m \u001b[38;5;28mgetattr\u001b[39m(indexer, \u001b[38;5;124m\"\u001b[39m\u001b[38;5;124mdtype\u001b[39m\u001b[38;5;124m\"\u001b[39m, \u001b[38;5;28;01mNone\u001b[39;00m) \u001b[38;5;241m==\u001b[39m \u001b[38;5;28mbool\u001b[39m:\n",
      "File \u001b[1;32m~\\anaconda3\\lib\\site-packages\\pandas\\core\\indexes\\base.py:5782\u001b[0m, in \u001b[0;36mIndex._get_indexer_strict\u001b[1;34m(self, key, axis_name)\u001b[0m\n\u001b[0;32m   5779\u001b[0m \u001b[38;5;28;01melse\u001b[39;00m:\n\u001b[0;32m   5780\u001b[0m     keyarr, indexer, new_indexer \u001b[38;5;241m=\u001b[39m \u001b[38;5;28mself\u001b[39m\u001b[38;5;241m.\u001b[39m_reindex_non_unique(keyarr)\n\u001b[1;32m-> 5782\u001b[0m \u001b[38;5;28;43mself\u001b[39;49m\u001b[38;5;241;43m.\u001b[39;49m\u001b[43m_raise_if_missing\u001b[49m\u001b[43m(\u001b[49m\u001b[43mkeyarr\u001b[49m\u001b[43m,\u001b[49m\u001b[43m \u001b[49m\u001b[43mindexer\u001b[49m\u001b[43m,\u001b[49m\u001b[43m \u001b[49m\u001b[43maxis_name\u001b[49m\u001b[43m)\u001b[49m\n\u001b[0;32m   5784\u001b[0m keyarr \u001b[38;5;241m=\u001b[39m \u001b[38;5;28mself\u001b[39m\u001b[38;5;241m.\u001b[39mtake(indexer)\n\u001b[0;32m   5785\u001b[0m \u001b[38;5;28;01mif\u001b[39;00m \u001b[38;5;28misinstance\u001b[39m(key, Index):\n\u001b[0;32m   5786\u001b[0m     \u001b[38;5;66;03m# GH 42790 - Preserve name from an Index\u001b[39;00m\n",
      "File \u001b[1;32m~\\anaconda3\\lib\\site-packages\\pandas\\core\\indexes\\base.py:5842\u001b[0m, in \u001b[0;36mIndex._raise_if_missing\u001b[1;34m(self, key, indexer, axis_name)\u001b[0m\n\u001b[0;32m   5840\u001b[0m     \u001b[38;5;28;01mif\u001b[39;00m use_interval_msg:\n\u001b[0;32m   5841\u001b[0m         key \u001b[38;5;241m=\u001b[39m \u001b[38;5;28mlist\u001b[39m(key)\n\u001b[1;32m-> 5842\u001b[0m     \u001b[38;5;28;01mraise\u001b[39;00m \u001b[38;5;167;01mKeyError\u001b[39;00m(\u001b[38;5;124mf\u001b[39m\u001b[38;5;124m\"\u001b[39m\u001b[38;5;124mNone of [\u001b[39m\u001b[38;5;132;01m{\u001b[39;00mkey\u001b[38;5;132;01m}\u001b[39;00m\u001b[38;5;124m] are in the [\u001b[39m\u001b[38;5;132;01m{\u001b[39;00maxis_name\u001b[38;5;132;01m}\u001b[39;00m\u001b[38;5;124m]\u001b[39m\u001b[38;5;124m\"\u001b[39m)\n\u001b[0;32m   5844\u001b[0m not_found \u001b[38;5;241m=\u001b[39m \u001b[38;5;28mlist\u001b[39m(ensure_index(key)[missing_mask\u001b[38;5;241m.\u001b[39mnonzero()[\u001b[38;5;241m0\u001b[39m]]\u001b[38;5;241m.\u001b[39munique())\n\u001b[0;32m   5845\u001b[0m \u001b[38;5;28;01mraise\u001b[39;00m \u001b[38;5;167;01mKeyError\u001b[39;00m(\u001b[38;5;124mf\u001b[39m\u001b[38;5;124m\"\u001b[39m\u001b[38;5;132;01m{\u001b[39;00mnot_found\u001b[38;5;132;01m}\u001b[39;00m\u001b[38;5;124m not in index\u001b[39m\u001b[38;5;124m\"\u001b[39m)\n",
      "\u001b[1;31mKeyError\u001b[0m: \"None of [Index(['petal_length', 'sepal_length'], dtype='object')] are in the [columns]\""
     ]
    }
   ],
   "source": [
    "# Instantiate a new single neuron.\n",
    "node_two = SingleNeuron(sigmoid, cross_entropy_loss)\n",
    "\n",
    "# Create a numpy.ndarray of petal length and sepal length values for\n",
    "# the versicolor and virginica flowers, respectively. \n",
    "X_two = df.iloc[50:][[\"petal_length\", \"sepal_length\"]].values\n",
    "\n",
    "# Train the new single neuron model on the new feature vectors.\n",
    "node_two.train(X_two, y, alpha = 0.01, epochs = 10_000)\n",
    "\n",
    "\n",
    "plt.figure(figsize = (10, 8))\n",
    "plt.plot(range(1, len(node.errors_) + 1), \n",
    "         node.errors_,\n",
    "         label = \"node Cross Entropy Loss\")\n",
    "plt.plot(range(1, len(node_two.errors_) + 1), \n",
    "         node_two.errors_,\n",
    "         label = \" node_two Cross Entropy Loss\")\n",
    "plt.xlabel(\"epochs\", fontsize = 15)\n",
    "plt.ylabel(\"Cross Entropy Loss\", fontsize = 15)\n",
    "plt.legend(fontsize = 15)\n",
    "plt.title(\"Model Cost Comparison During Training\", fontsize = 18)\n",
    "\n",
    "\n",
    "plt.show()"
   ]
  },
  {
   "cell_type": "markdown",
   "metadata": {
    "id": "jEUWP5_IilVw"
   },
   "source": [
    "---\n",
    "\n",
    "As we can see by the figures generated above, using two features results in a lower cost function (in this particular instance) with the same learning rate and number of epochs. We encourage the reader to compare different combinations of features from the data and compare the loss function over time during training. Finally, let us visualize the decision boundary generated by the trained weights and bias of ```node_two``` by running the following code in the cell below. After running notice that even with the logistic regression single neuron, we are still learning a linearly seperating hyperplane.  \n",
    "\n",
    "\n",
    "---"
   ]
  },
  {
   "cell_type": "code",
   "execution_count": null,
   "metadata": {
    "colab": {
     "base_uri": "https://localhost:8080/",
     "height": 524
    },
    "id": "hnYtWH-FilVw",
    "outputId": "9e4a0dd0-0cce-44db-ee1d-fcd8384f3881"
   },
   "outputs": [],
   "source": [
    "node_two.plot_decision_boundary(X_two, y)"
   ]
  },
  {
   "cell_type": "code",
   "execution_count": null,
   "metadata": {
    "colab": {
     "base_uri": "https://localhost:8080/",
     "height": 524
    },
    "id": "qhAMcYVtilVw",
    "outputId": "5c16ec24-c795-4a56-cb5d-43c2eb7f2a3d"
   },
   "outputs": [],
   "source": [
    "def sign(z):\n",
    "    return np.sign(z)\n",
    "\n",
    "def MSE(y_hat, y):\n",
    "    return .5*(y_hat - y)**2\n",
    "\n",
    "# Instantiate a new single neuron.\n",
    "node_three = SingleNeuron(sign, MSE)\n",
    "\n",
    "# Create a numpy.ndarray of petal length and sepal length values for\n",
    "# the versicolor and virginica flowers, respectively. \n",
    "X_three = df.iloc[50:][[\"petal_length\", \"sepal_length\"]].values\n",
    "\n",
    "y_three = np.where(df.iloc[50:][\"species\"] == \"versicolor\", -1, 1)\n",
    "\n",
    "\n",
    "# Train the new single neuron model on the new feature vectors.\n",
    "node_three.train(X_three, y_three, alpha = 0.001, epochs = 5_000)\n",
    "\n",
    "node_three.plot_decision_boundary(X_three, y_three)\n",
    "plt.show()"
   ]
  },
  {
   "cell_type": "code",
   "execution_count": null,
   "metadata": {
    "colab": {
     "base_uri": "https://localhost:8080/",
     "height": 524
    },
    "id": "nqzB0CiGilVx",
    "outputId": "5b99fa4b-6eed-4062-eef7-691ea0a6af3e"
   },
   "outputs": [],
   "source": [
    "node_three.plot_cost_function()"
   ]
  },
  {
   "cell_type": "code",
   "execution_count": null,
   "metadata": {
    "colab": {
     "base_uri": "https://localhost:8080/",
     "height": 488
    },
    "id": "tLgPVrK-ilVx",
    "outputId": "f524549b-4e6a-4f2f-952a-c1722f493cbd"
   },
   "outputs": [],
   "source": [
    "def linear(z):\n",
    "    return z\n",
    "\n",
    "# Instantiate a new single neuron.\n",
    "node_four = SingleNeuron(linear, MSE)\n",
    "\n",
    "# Create a numpy.ndarray of petal length and sepal length values for\n",
    "# the versicolor and virginica flowers, respectively. \n",
    "X_four = df.iloc[0:50][\"sepal_length\"].values\n",
    "X_four = X_four.reshape(-1, 1)\n",
    "\n",
    "y_four = df.iloc[0:50][\"sepal_width\"].values\n",
    "\n",
    "\n",
    "# Train the new single neuron model on the new feature vectors.\n",
    "node_four.train(X_four, y_four, alpha = 0.001, epochs = 5_000)\n",
    "\n",
    "plt.figure(figsize = (10, 8))\n",
    "plt.scatter(X_four, y_four, label = \"setosa\", color = \"magenta\")\n",
    "\n",
    "domain = np.linspace(np.min(X_four), np.max(X_four), 50)\n",
    "plt.plot(domain, node_four.predict(domain.reshape(-1, 1)), label = \"regression line\")\n",
    "plt.show()"
   ]
  },
  {
   "cell_type": "code",
   "execution_count": null,
   "metadata": {
    "id": "qKPmV-5ailVx"
   },
   "outputs": [],
   "source": []
  },
  {
   "cell_type": "code",
   "execution_count": null,
   "metadata": {
    "id": "QzuOoUuAilVx"
   },
   "outputs": [],
   "source": []
  }
 ],
 "metadata": {
  "colab": {
   "provenance": []
  },
  "interpreter": {
   "hash": "40d3a090f54c6569ab1632332b64b2c03c39dcf918b08424e98f38b5ae0af88f"
  },
  "kernelspec": {
   "display_name": "Python 3 (ipykernel)",
   "language": "python",
   "name": "python3"
  },
  "language_info": {
   "codemirror_mode": {
    "name": "ipython",
    "version": 3
   },
   "file_extension": ".py",
   "mimetype": "text/x-python",
   "name": "python",
   "nbconvert_exporter": "python",
   "pygments_lexer": "ipython3",
   "version": "3.9.12"
  }
 },
 "nbformat": 4,
 "nbformat_minor": 1
}
